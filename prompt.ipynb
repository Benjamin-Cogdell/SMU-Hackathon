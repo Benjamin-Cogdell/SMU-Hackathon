{
 "cells": [
  {
   "cell_type": "code",
   "execution_count": 1,
   "id": "7aa3ffcd",
   "metadata": {},
   "outputs": [
    {
     "name": "stdout",
     "output_type": "stream",
     "text": [
      "Loaded 13 transcripts\n",
      "\n",
      "Processing transcripts with grouping and consolidation...\n"
     ]
    },
    {
     "name": "stderr",
     "output_type": "stream",
     "text": [
      "Processing transcripts:  31%|███       | 4/13 [00:07<00:17,  1.97s/it]"
     ]
    },
    {
     "name": "stdout",
     "output_type": "stream",
     "text": [
      "⚠️ Throttled. Retrying in 1.4s...\n"
     ]
    },
    {
     "name": "stderr",
     "output_type": "stream",
     "text": [
      "Processing transcripts:  38%|███▊      | 5/13 [00:17<00:37,  4.73s/it]"
     ]
    },
    {
     "name": "stdout",
     "output_type": "stream",
     "text": [
      "⚠️ Throttled. Retrying in 1.9s...\n"
     ]
    },
    {
     "name": "stderr",
     "output_type": "stream",
     "text": [
      "Processing transcripts:  54%|█████▍    | 7/13 [00:47<01:02, 10.41s/it]"
     ]
    },
    {
     "name": "stdout",
     "output_type": "stream",
     "text": [
      "⚠️ Throttled. Retrying in 1.8s...\n"
     ]
    },
    {
     "name": "stderr",
     "output_type": "stream",
     "text": [
      "Processing transcripts:  62%|██████▏   | 8/13 [01:02<00:59, 11.89s/it]"
     ]
    },
    {
     "name": "stdout",
     "output_type": "stream",
     "text": [
      "⚠️ Throttled. Retrying in 1.7s...\n"
     ]
    },
    {
     "name": "stderr",
     "output_type": "stream",
     "text": [
      "Processing transcripts:  77%|███████▋  | 10/13 [01:32<00:40, 13.47s/it]"
     ]
    },
    {
     "name": "stdout",
     "output_type": "stream",
     "text": [
      "⚠️ Throttled. Retrying in 1.1s...\n"
     ]
    },
    {
     "name": "stderr",
     "output_type": "stream",
     "text": [
      "Processing transcripts:  85%|████████▍ | 11/13 [01:47<00:28, 14.03s/it]"
     ]
    },
    {
     "name": "stdout",
     "output_type": "stream",
     "text": [
      "⚠️ Throttled. Retrying in 1.7s...\n"
     ]
    },
    {
     "name": "stderr",
     "output_type": "stream",
     "text": [
      "Processing transcripts: 100%|██████████| 13/13 [02:17<00:00, 10.56s/it]\n"
     ]
    },
    {
     "name": "stdout",
     "output_type": "stream",
     "text": [
      "✅ Grouped and consolidated summaries saved to grouped_call_summaries.csv\n"
     ]
    }
   ],
   "source": [
    "import boto3\n",
    "import pandas as pd\n",
    "import json\n",
    "import time\n",
    "import random\n",
    "from tqdm import tqdm\n",
    "from botocore.exceptions import ClientError\n",
    "\n",
    "# -------------------\n",
    "# 1. Load transcripts\n",
    "# -------------------\n",
    "df = pd.read_csv(\"call_transcripts.csv\")\n",
    "print(f\"Loaded {len(df)} transcripts\")\n",
    "\n",
    "# -------------------\n",
    "# 2. Connect to AWS Bedrock once\n",
    "# -------------------\n",
    "bedrock = boto3.client(\n",
    "    service_name=\"bedrock-runtime\",\n",
    "    region_name=\"us-east-1\"\n",
    ")\n",
    "\n",
    "# -------------------\n",
    "# 3. Summarize + categorize with retry/backoff\n",
    "# -------------------\n",
    "def summarize_transcript(transcript, retries=5, backoff=2):\n",
    "    prompt = f\"\"\"Summarize this 911 call in two bullets for responders. \n",
    "Always include the location exactly as shown in the dialogue in BOTH bullets. \n",
    "Also classify the emergency into one of these categories:\n",
    "[Medical, Fire, Traffic Accident, Crime, Domestic Disturbance, Other]. \n",
    "\n",
    "Format:\n",
    "Emergency: [type] at [location] — [people], urgency [High/Medium/Low]\n",
    "Key Details: [critical responder facts, including the caller's location]\n",
    "Category: [category label]\n",
    "\n",
    "911 Call Transcript: {transcript}\n",
    "\n",
    "Provide a concise, structured summary for emergency responders.\"\"\"\n",
    "    \n",
    "    for attempt in range(retries):\n",
    "        try:\n",
    "            response = bedrock.invoke_model(\n",
    "                modelId=\"us.anthropic.claude-3-7-sonnet-20250219-v1:0\",\n",
    "                body=json.dumps({\n",
    "                    \"anthropic_version\": \"bedrock-2023-05-31\",\n",
    "                    \"max_tokens\": 300,\n",
    "                    \"temperature\": 0.3,\n",
    "                    \"messages\": [{\"role\": \"user\", \"content\": prompt}]\n",
    "                })\n",
    "            )\n",
    "            \n",
    "            result = json.loads(response['body'].read())\n",
    "            text_out = result[\"content\"][0][\"text\"]\n",
    "\n",
    "            category = \"Uncategorized\"\n",
    "            location = \"Unknown Location\"\n",
    "\n",
    "            # Extract category if present\n",
    "            if \"Category:\" in text_out:\n",
    "                parts = text_out.split(\"Category:\")\n",
    "                summary = parts[0].strip()\n",
    "                category = parts[1].strip()\n",
    "            else:\n",
    "                summary = text_out.strip()\n",
    "\n",
    "            # crude location extraction\n",
    "            for line in summary.splitlines():\n",
    "                if line.startswith(\"Emergency:\") and \" at \" in line:\n",
    "                    try:\n",
    "                        location = line.split(\" at \")[1].split(\"—\")[0].strip()\n",
    "                    except:\n",
    "                        pass\n",
    "\n",
    "            return summary, category, location\n",
    "\n",
    "        except ClientError as e:\n",
    "            if e.response[\"Error\"][\"Code\"] == \"ThrottlingException\":\n",
    "                sleep_time = backoff ** attempt + random.uniform(0, 1)\n",
    "                print(f\"⚠️ Throttled. Retrying in {sleep_time:.1f}s...\")\n",
    "                time.sleep(sleep_time)\n",
    "                continue\n",
    "            else:\n",
    "                return f\"Error: {e}\", \"Uncategorized\", \"Unknown Location\"\n",
    "        except Exception as e:\n",
    "            return f\"Error: {e}\", \"Uncategorized\", \"Unknown Location\"\n",
    "    \n",
    "    return \"Error: Max retries exceeded\", \"Uncategorized\", \"Unknown Location\"\n",
    "\n",
    "# -------------------\n",
    "# 4. Consolidate multiple transcripts into one summary per group\n",
    "# -------------------\n",
    "def consolidate_group_summary(transcripts, retries=5, backoff=2):\n",
    "    transcripts_text = \"\\n\\n\".join(transcripts[:10])  # limit to avoid token issues\n",
    "    prompt = f\"\"\"You are a 911 call assistant.\n",
    "Summarize the following transcripts about the same incident into a single concise summary.\n",
    "Include:\n",
    "- Emergency line (type + location + people + urgency)\n",
    "- Key Details (critical facts + location)\n",
    "- Category\n",
    "\n",
    "Transcripts:\n",
    "{transcripts_text}\n",
    "\"\"\"\n",
    "    for attempt in range(retries):\n",
    "        try:\n",
    "            response = bedrock.invoke_model(\n",
    "                modelId=\"us.anthropic.claude-3-7-sonnet-20250219-v1:0\",\n",
    "                body=json.dumps({\n",
    "                    \"anthropic_version\": \"bedrock-2023-05-31\",\n",
    "                    \"max_tokens\": 400,\n",
    "                    \"temperature\": 0.3,\n",
    "                    \"messages\": [{\"role\":\"user\",\"content\":prompt}]\n",
    "                })\n",
    "            )\n",
    "            result = json.loads(response['body'].read())\n",
    "            return result[\"content\"][0][\"text\"]\n",
    "        except Exception as e:\n",
    "            time.sleep(backoff ** attempt + random.uniform(0,1))\n",
    "            continue\n",
    "    return \"Error: Max retries exceeded\"\n",
    "\n",
    "# -------------------\n",
    "# 5. Sequential processing with grouping\n",
    "# -------------------\n",
    "def process_with_grouping(df):\n",
    "    grouped_results = {}\n",
    "\n",
    "    for i, row in tqdm(df.iterrows(), total=len(df), desc=\"Processing transcripts\"):\n",
    "        transcript = row[\"Transcription\"]\n",
    "        summary, category, location = summarize_transcript(transcript)\n",
    "\n",
    "        group_key = (category, location)\n",
    "        if group_key not in grouped_results:\n",
    "            grouped_results[group_key] = {\n",
    "                \"Category\": category,\n",
    "                \"Location\": location,\n",
    "                \"Transcripts\": [],\n",
    "            }\n",
    "\n",
    "        grouped_results[group_key][\"Transcripts\"].append(transcript)\n",
    "\n",
    "    # Consolidate summaries per group\n",
    "    for key, g in grouped_results.items():\n",
    "        g[\"Combined Summary\"] = consolidate_group_summary(g[\"Transcripts\"])\n",
    "\n",
    "    return grouped_results\n",
    "\n",
    "# -------------------\n",
    "# 6. Run processing\n",
    "# -------------------\n",
    "print(\"\\nProcessing transcripts with grouping and consolidation...\")\n",
    "grouped = process_with_grouping(df)\n",
    "\n",
    "# -------------------\n",
    "# 7. Save results\n",
    "# -------------------\n",
    "rows = []\n",
    "for key, g in grouped.items():\n",
    "    rows.append({\n",
    "        \"Category\": g[\"Category\"],\n",
    "        \"Location\": g[\"Location\"],\n",
    "        \"Combined Summary\": g[\"Combined Summary\"],\n",
    "        \"Transcript Count\": len(g[\"Transcripts\"])\n",
    "    })\n",
    "\n",
    "out_df = pd.DataFrame(rows)\n",
    "out_df.to_csv(\"grouped_call_summaries.csv\", index=False)\n",
    "print(\"✅ Grouped and consolidated summaries saved to grouped_call_summaries.csv\")\n",
    "\n",
    "\n"
   ]
  },
  {
   "cell_type": "code",
   "execution_count": 18,
   "id": "0fd42d52",
   "metadata": {},
   "outputs": [
    {
     "data": {
      "text/html": [
       "<div>\n",
       "<style scoped>\n",
       "    .dataframe tbody tr th:only-of-type {\n",
       "        vertical-align: middle;\n",
       "    }\n",
       "\n",
       "    .dataframe tbody tr th {\n",
       "        vertical-align: top;\n",
       "    }\n",
       "\n",
       "    .dataframe thead th {\n",
       "        text-align: right;\n",
       "    }\n",
       "</style>\n",
       "<table border=\"1\" class=\"dataframe\">\n",
       "  <thead>\n",
       "    <tr style=\"text-align: right;\">\n",
       "      <th></th>\n",
       "      <th>Transcription</th>\n",
       "      <th>Start Time</th>\n",
       "      <th>End Time</th>\n",
       "      <th>Duration (seconds)</th>\n",
       "      <th>Location</th>\n",
       "      <th>Caller ID</th>\n",
       "      <th>Call Type</th>\n",
       "    </tr>\n",
       "  </thead>\n",
       "  <tbody>\n",
       "    <tr>\n",
       "      <th>0</th>\n",
       "      <td>911, what's your emergency? Caller: My husband...</td>\n",
       "      <td>2024-03-15 14:23:17</td>\n",
       "      <td>2024-03-15 14:28:42</td>\n",
       "      <td>325</td>\n",
       "      <td>47284 Jennifer Islands, Port Kellychester, ND ...</td>\n",
       "      <td>Sarah Martinez</td>\n",
       "      <td>Chest pain</td>\n",
       "    </tr>\n",
       "    <tr>\n",
       "      <th>1</th>\n",
       "      <td>Emergency services, what's happening? Caller: ...</td>\n",
       "      <td>2024-05-22 11:47:33</td>\n",
       "      <td>2024-05-22 11:52:18</td>\n",
       "      <td>285</td>\n",
       "      <td>789 David Locks, Anthonyshire, CA 92103</td>\n",
       "      <td>Anonymous</td>\n",
       "      <td>Active shooter</td>\n",
       "    </tr>\n",
       "    <tr>\n",
       "      <th>2</th>\n",
       "      <td>911 dispatch, what's your emergency? Caller: M...</td>\n",
       "      <td>2024-07-08 19:34:26</td>\n",
       "      <td>2024-07-08 19:41:15</td>\n",
       "      <td>409</td>\n",
       "      <td>456 Maria Valley, Lake Christopherstad, TX 75201</td>\n",
       "      <td>Michael Chen</td>\n",
       "      <td>House fire</td>\n",
       "    </tr>\n",
       "    <tr>\n",
       "      <th>3</th>\n",
       "      <td>What's your emergency? Caller: I think my wife...</td>\n",
       "      <td>2024-01-19 09:15:44</td>\n",
       "      <td>2024-01-19 09:20:29</td>\n",
       "      <td>285</td>\n",
       "      <td>123 Thompson Street, New Patricia, FL 33125</td>\n",
       "      <td>Robert Johnson</td>\n",
       "      <td>Stroke symptoms</td>\n",
       "    </tr>\n",
       "    <tr>\n",
       "      <th>4</th>\n",
       "      <td>911, how can I help you? Caller: There's been ...</td>\n",
       "      <td>2024-09-03 16:42:11</td>\n",
       "      <td>2024-09-03 16:45:33</td>\n",
       "      <td>202</td>\n",
       "      <td>890 Garcia Ranch, Williamsbury, IL 60614</td>\n",
       "      <td>Jennifer Lopez</td>\n",
       "      <td>Car accident (with injury)</td>\n",
       "    </tr>\n",
       "  </tbody>\n",
       "</table>\n",
       "</div>"
      ],
      "text/plain": [
       "                                       Transcription           Start Time  \\\n",
       "0  911, what's your emergency? Caller: My husband...  2024-03-15 14:23:17   \n",
       "1  Emergency services, what's happening? Caller: ...  2024-05-22 11:47:33   \n",
       "2  911 dispatch, what's your emergency? Caller: M...  2024-07-08 19:34:26   \n",
       "3  What's your emergency? Caller: I think my wife...  2024-01-19 09:15:44   \n",
       "4  911, how can I help you? Caller: There's been ...  2024-09-03 16:42:11   \n",
       "\n",
       "              End Time  Duration (seconds)  \\\n",
       "0  2024-03-15 14:28:42                 325   \n",
       "1  2024-05-22 11:52:18                 285   \n",
       "2  2024-07-08 19:41:15                 409   \n",
       "3  2024-01-19 09:20:29                 285   \n",
       "4  2024-09-03 16:45:33                 202   \n",
       "\n",
       "                                            Location       Caller ID  \\\n",
       "0  47284 Jennifer Islands, Port Kellychester, ND ...  Sarah Martinez   \n",
       "1            789 David Locks, Anthonyshire, CA 92103       Anonymous   \n",
       "2   456 Maria Valley, Lake Christopherstad, TX 75201    Michael Chen   \n",
       "3        123 Thompson Street, New Patricia, FL 33125  Robert Johnson   \n",
       "4           890 Garcia Ranch, Williamsbury, IL 60614  Jennifer Lopez   \n",
       "\n",
       "                    Call Type  \n",
       "0                  Chest pain  \n",
       "1              Active shooter  \n",
       "2                  House fire  \n",
       "3             Stroke symptoms  \n",
       "4  Car accident (with injury)  "
      ]
     },
     "execution_count": 18,
     "metadata": {},
     "output_type": "execute_result"
    }
   ],
   "source": [
    "\n",
    "df.head()"
   ]
  }
 ],
 "metadata": {
  "kernelspec": {
   "display_name": "base",
   "language": "python",
   "name": "python3"
  },
  "language_info": {
   "codemirror_mode": {
    "name": "ipython",
    "version": 3
   },
   "file_extension": ".py",
   "mimetype": "text/x-python",
   "name": "python",
   "nbconvert_exporter": "python",
   "pygments_lexer": "ipython3",
   "version": "3.11.4"
  }
 },
 "nbformat": 4,
 "nbformat_minor": 5
}
